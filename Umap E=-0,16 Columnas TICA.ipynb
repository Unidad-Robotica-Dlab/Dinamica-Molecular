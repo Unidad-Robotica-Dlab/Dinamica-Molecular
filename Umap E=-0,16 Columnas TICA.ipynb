{
 "cells": [
  {
   "cell_type": "markdown",
   "id": "af8d9983",
   "metadata": {},
   "source": [
    "# Implementación de UMAP: Datos de E=-0,16 en columnas dadas por TICA"
   ]
  },
  {
   "cell_type": "code",
   "execution_count": null,
   "id": "85c1648a",
   "metadata": {},
   "outputs": [],
   "source": [
    "import os\n",
    "import pandas as pd\n",
    "import numpy as np\n",
    "from tqdm import tqdm\n",
    "import matplotlib.pyplot as plt\n",
    "import re\n",
    "import umap.umap_ as umap\n",
    "import umap.plot\n",
    "from sklearn.preprocessing import StandardScaler"
   ]
  },
  {
   "cell_type": "markdown",
   "id": "6ec83716",
   "metadata": {},
   "source": [
    "## Carga de datos"
   ]
  },
  {
   "cell_type": "code",
   "execution_count": null,
   "id": "d0e66db0",
   "metadata": {},
   "outputs": [],
   "source": [
    "path = \"/home/lcampos/zeus/proyecto_fondecyt/CODE/\"\n",
    "df_pca = pd.read_csv(path+'csv_creados/df_pca_E016.csv')\n",
    "df_pca.set_index(['R', 'Unnamed: 1'], inplace=True) \n",
    "df_pca.rename_axis(index={'Unnamed: 1': 'Time'}, inplace=True)\n",
    "columnas_tica = ['gyrate_S1_Total',\n",
    "                 'gyrate_prot_Total',\n",
    "                 'gyrate_prot_X',\n",
    "                 'gyrate_prot_Z',\n",
    "                 'msd_S3',\n",
    "                 'msd_S2',\n",
    "                 'msd_S1',\n",
    "                 'msd_S0',\n",
    "                 'msd_prot',\n",
    "                 'gyrate_S4_Total',\n",
    "                 'gyrate_S4_X',\n",
    "                 'gyrate_S4_Y',\n",
    "                 'msd_S4',\n",
    "                 'gyrate_prot_Y']"
   ]
  },
  {
   "cell_type": "code",
   "execution_count": null,
   "id": "48e9314f",
   "metadata": {},
   "outputs": [],
   "source": [
    "data = df_pca[columnas_tica]\n",
    "data"
   ]
  },
  {
   "cell_type": "markdown",
   "id": "ab7f2a56",
   "metadata": {},
   "source": [
    "## Funciones para implementar UMAP\n",
    "\n",
    "Se requiere que los datos estén normalizados, sin embargo, hay 2 posibles normalizaciones a considerar\n",
    "\n",
    "normalizador type 1: Los estandariza de manera que tengan media $0$ y std $1$.\n",
    "\n",
    "normalizador type 2: Representa los datos a $[0,1]$."
   ]
  },
  {
   "cell_type": "code",
   "execution_count": null,
   "id": "ca99517d",
   "metadata": {},
   "outputs": [],
   "source": [
    "def min_max_normalize(column):\n",
    "    return (column - column.min()) / (column.max() - column.min() + 1e-8)  # se suma la cte pequeña pues hay columnas con valores ctes\n",
    "\n",
    "def implementacion_umap(dataset, normalizador='type 1', min_dist=0.1, n_neighbors=15, n_components=2, metric='euclidean'):\n",
    "    if normalizador=='type 1':\n",
    "        scaler = StandardScaler()\n",
    "        X_scaled = scaler.fit_transform(dataset.values)\n",
    "    \n",
    "    elif normalizador=='type 2':\n",
    "        X_scaled = dataset.apply(min_max_normalize).values\n",
    "        \n",
    "    reducer = umap.UMAP(n_neighbors=n_neighbors,\n",
    "                            min_dist=min_dist,\n",
    "                            n_components=n_components,\n",
    "                            metric=metric)\n",
    "    embedding = reducer.fit_transform(X_scaled)\n",
    "    \n",
    "    return reducer, embedding\n",
    "\n",
    "def grafico_umap(embedding, color, title='Umap Projection', s=5):\n",
    "    x, y = embedding.shape\n",
    "    \n",
    "    if y == 2:\n",
    "        plt.figure(figsize=(8, 6))\n",
    "        plt.scatter(embedding[:, 0], embedding[:, 1], c = color, s=s)\n",
    "        plt.title(title)\n",
    "        plt.colorbar(label='time')\n",
    "        plt.xlabel('Dimension 1')\n",
    "        plt.ylabel('Dimension 2')\n",
    "        plt.show() \n",
    "        \n",
    "    elif y == 3:\n",
    "        fig = plt.figure(figsize=(8, 6))\n",
    "        ax = fig.add_subplot(111, projection='3d')\n",
    "        ax.scatter(embedding[:, 0], embedding[:, 1], embedding[:, 2], c=color, cmap='viridis', s=s)\n",
    "        ax.set_title(title)\n",
    "        ax.set_xlabel('Dimension 1')\n",
    "        ax.set_ylabel('Dimension 2')\n",
    "        ax.set_zlabel('Dimension 3')\n",
    "        plt.show()     "
   ]
  },
  {
   "cell_type": "markdown",
   "id": "e11aea03",
   "metadata": {},
   "source": [
    "## Umap sobre (casi) todos los datos\n",
    "Dada la cantidad de datos, y lo lento que es UMAP, consideraremos un set de datos reducido"
   ]
  },
  {
   "cell_type": "code",
   "execution_count": null,
   "id": "5fee951f",
   "metadata": {},
   "outputs": [],
   "source": [
    "time_values = np.append(np.array([0,10]),np.arange(100,50010,100))\n",
    "tiempo = np.tile(time_values,100)\n",
    "df_ = data.loc[data.index.get_level_values('Time').isin(time_values)]\n",
    "df_"
   ]
  },
  {
   "cell_type": "code",
   "execution_count": null,
   "id": "2c784427",
   "metadata": {},
   "outputs": [],
   "source": [
    "# 2D\n",
    "# Normalizador type 1, n_neighbors=100\n",
    "reducer, embedding = implementacion_umap(df_, normalizador='type 1', min_dist=0.1, n_neighbors=100, n_components=2)\n",
    "grafico_umap(embedding, tiempo, title='Umap Projection 2D all data', s=1)"
   ]
  },
  {
   "cell_type": "code",
   "execution_count": null,
   "id": "8198b45c",
   "metadata": {},
   "outputs": [],
   "source": [
    "# Crear un gráfico UMAP para cada repetición, como los datos estan ordenados no debiese haber problema\n",
    "for i in range(100):\n",
    "    subset_embedding = embedding[502*i:502*(i+1)]\n",
    "    plt.figure(figsize=(8, 6))\n",
    "    plt.scatter(subset_embedding[:, 0], subset_embedding[:, 1], c=time_values,  s=1)\n",
    "    plt.xlim([-10, 15])\n",
    "    plt.ylim([-3, 15])\n",
    "    plt.title(f'UMAP Projection 2D of all repetition, repetition ' + str(i+1))\n",
    "    plt.xlabel('UMAP Dimension 1')\n",
    "    plt.ylabel('UMAP Dimension 2')\n",
    "    plt.show()"
   ]
  },
  {
   "cell_type": "code",
   "execution_count": null,
   "id": "ed80054b",
   "metadata": {},
   "outputs": [],
   "source": [
    "# 3D\n",
    "# Normalizador type 1, n_neighbors=100\n",
    "reducer, embedding = implementacion_umap(df_, normalizador='type 1', min_dist=0.1, n_neighbors=100, n_components=3)\n",
    "grafico_umap(embedding, tiempo, title='Umap Projection 3D all data', s=1)"
   ]
  },
  {
   "cell_type": "code",
   "execution_count": null,
   "id": "6779590f",
   "metadata": {},
   "outputs": [],
   "source": [
    "# Crear un gráfico UMAP para cada repeticion\n",
    "for i in range(100):\n",
    "    subset_embedding = embedding[502*i:502*(i+1)]\n",
    "    fig = plt.figure()\n",
    "    ax = fig.add_subplot(111, projection='3d')\n",
    "    ax.scatter(subset_embedding[:, 0], subset_embedding[:, 1], subset_embedding[:, 2], c=time_values, cmap='viridis', s=1)\n",
    "    ax.set_xlim([-10, 15])\n",
    "    ax.set_ylim([-1, 15])\n",
    "    ax.set_zlim([-2, 12])\n",
    "    ax.set_title('UMAP projection 3D of all repetition, repetition '+str(i+1))\n",
    "    ax.set_xlabel('Dimension 1')\n",
    "    ax.set_ylabel('Dimension 2')\n",
    "    ax.set_zlabel('Dimension 3')\n",
    "    plt.show()"
   ]
  },
  {
   "cell_type": "code",
   "execution_count": null,
   "id": "6d5e4e5d",
   "metadata": {},
   "outputs": [],
   "source": [
    "# Crear un gráfico UMAP para cada repeticion\n",
    "for i in range(100):\n",
    "    subset_embedding = embedding[502*i:502*(i+1)]\n",
    "    fig = plt.figure()\n",
    "    ax = fig.add_subplot(111, projection='3d')\n",
    "    ax.scatter(subset_embedding[:, 0], subset_embedding[:, 1], subset_embedding[:, 2], c=time_values, cmap='viridis', s=1)\n",
    "    ax.set_title('UMAP projection 3D of all repetition, repetition '+str(i+1))\n",
    "    ax.set_xlabel('Dimension 1')\n",
    "    ax.set_ylabel('Dimension 2')\n",
    "    ax.set_zlabel('Dimension 3')\n",
    "    plt.show()"
   ]
  },
  {
   "cell_type": "code",
   "execution_count": null,
   "id": "ccccdc1d",
   "metadata": {},
   "outputs": [],
   "source": [
    "# 2D\n",
    "# Normalizador type 2, n_neighbors=100\n",
    "reducer, embedding = implementacion_umap(df_, normalizador='type 2', min_dist=0.1, n_neighbors=100, n_components=2)\n",
    "grafico_umap(embedding, tiempo, title='Umap Projection 3D all data', s=1)"
   ]
  },
  {
   "cell_type": "code",
   "execution_count": null,
   "id": "4d919d83",
   "metadata": {},
   "outputs": [],
   "source": [
    "for i in range(100):\n",
    "    subset_embedding = embedding[502*i:502*(i+1)]\n",
    "    plt.figure(figsize=(8, 6))\n",
    "    plt.scatter(subset_embedding[:, 0], subset_embedding[:, 1], c=time_values,  s=1)\n",
    "    plt.xlim([-5, 20])\n",
    "    plt.ylim([-10, 20])\n",
    "    plt.title(f'UMAP Projection 2D of all repetition, repetition ' + str(i+1))\n",
    "    plt.xlabel('UMAP Dimension 1')\n",
    "    plt.ylabel('UMAP Dimension 2')\n",
    "    plt.show()"
   ]
  },
  {
   "cell_type": "code",
   "execution_count": null,
   "id": "430dcfcd",
   "metadata": {},
   "outputs": [],
   "source": [
    "# Es la misma que la anterior, pero sin los lim de los ejes\n",
    "for i in range(100):\n",
    "    subset_embedding = embedding[502*i:502*(i+1)]\n",
    "    plt.figure(figsize=(8, 6))\n",
    "    plt.scatter(subset_embedding[:, 0], subset_embedding[:, 1], c=time_values,  s=1)\n",
    "    plt.title(f'UMAP Projection 2D of all repetition, repetition ' + str(i+1))\n",
    "    plt.xlabel('UMAP Dimension 1')\n",
    "    plt.ylabel('UMAP Dimension 2')\n",
    "    plt.show()"
   ]
  },
  {
   "cell_type": "code",
   "execution_count": null,
   "id": "2471cfcb",
   "metadata": {},
   "outputs": [],
   "source": [
    "# 3D\n",
    "# Normalizador type 2, n_neighbors=100\n",
    "reducer, embedding = implementacion_umap(df_, normalizador='type 2', min_dist=0.1, n_neighbors=100, n_components=3)\n",
    "grafico_umap(embedding, tiempo, title='Umap Projection 3D all data', s=1)"
   ]
  },
  {
   "cell_type": "code",
   "execution_count": null,
   "id": "c64a0575",
   "metadata": {},
   "outputs": [],
   "source": [
    "# Crear un gráfico UMAP para cada repeticion\n",
    "for i in range(100):\n",
    "    subset_embedding = embedding[502*i:502*(i+1)]\n",
    "    fig = plt.figure()\n",
    "    ax = fig.add_subplot(111, projection='3d')\n",
    "    ax.scatter(subset_embedding[:, 0], subset_embedding[:, 1], subset_embedding[:, 2], c=time_values, cmap='viridis', s=1)\n",
    "    ax.set_xlim([-5, 16])\n",
    "    ax.set_ylim([-10, 20])\n",
    "    ax.set_zlim([-5, 15])\n",
    "    ax.set_title('UMAP projection 3D of all repetition, repetition '+str(i+1))\n",
    "    ax.set_xlabel('Dimension 1')\n",
    "    ax.set_ylabel('Dimension 2')\n",
    "    ax.set_zlabel('Dimension 3')\n",
    "    plt.show()"
   ]
  },
  {
   "cell_type": "code",
   "execution_count": null,
   "id": "90a3b16c",
   "metadata": {},
   "outputs": [],
   "source": [
    "# Crear un gráfico UMAP para cada repeticion\n",
    "for i in range(100):\n",
    "    subset_embedding = embedding[502*i:502*(i+1)]\n",
    "    fig = plt.figure()\n",
    "    ax = fig.add_subplot(111, projection='3d')\n",
    "    ax.scatter(subset_embedding[:, 0], subset_embedding[:, 1], subset_embedding[:, 2], c=time_values, cmap='viridis', s=1)\n",
    "    ax.set_title('UMAP projection 3D of all repetition, repetition '+str(i+1))\n",
    "    ax.set_xlabel('Dimension 1')\n",
    "    ax.set_ylabel('Dimension 2')\n",
    "    ax.set_zlabel('Dimension 3')\n",
    "    plt.show()"
   ]
  },
  {
   "cell_type": "markdown",
   "id": "9406bed1",
   "metadata": {},
   "source": [
    "## Variar parametros"
   ]
  },
  {
   "cell_type": "code",
   "execution_count": null,
   "id": "8aeed029",
   "metadata": {},
   "outputs": [],
   "source": [
    "# 2D\n",
    "# Normalizador type 1, n_neighbors=500, min_dist=0.1\n",
    "reducer, embedding = implementacion_umap(df_, normalizador='type 1', min_dist=0.1, n_neighbors=500, n_components=2)\n",
    "grafico_umap(embedding, tiempo, title='Umap Projection 2D all data', s=1)"
   ]
  },
  {
   "cell_type": "code",
   "execution_count": null,
   "id": "c0ee3362",
   "metadata": {},
   "outputs": [],
   "source": [
    "# 2D\n",
    "# Normalizador type 1, n_neighbors=500, min_dist=0.5\n",
    "reducer, embedding = implementacion_umap(df_, normalizador='type 1', min_dist=0.5, n_neighbors=500, n_components=2)\n",
    "grafico_umap(embedding, tiempo, title='Umap Projection 2D all data', s=1)"
   ]
  },
  {
   "cell_type": "code",
   "execution_count": null,
   "id": "bea93591",
   "metadata": {},
   "outputs": [],
   "source": [
    "# 2D\n",
    "# Normalizador type 2, n_neighbors=500, min_dist=0.1\n",
    "reducer, embedding = implementacion_umap(df_, normalizador='type 2', min_dist=0.1, n_neighbors=500, n_components=2)\n",
    "grafico_umap(embedding, tiempo, title='Umap Projection 2D all data', s=1)"
   ]
  },
  {
   "cell_type": "code",
   "execution_count": null,
   "id": "be986680",
   "metadata": {},
   "outputs": [],
   "source": [
    "# 2D\n",
    "# Normalizador type 2, n_neighbors=500, min_dist=0.5\n",
    "reducer, embedding = implementacion_umap(df_, normalizador='type 2', min_dist=0.5, n_neighbors=500, n_components=2)\n",
    "grafico_umap(embedding, tiempo, title='Umap Projection 2D all data', s=1)"
   ]
  },
  {
   "cell_type": "code",
   "execution_count": null,
   "id": "1363a0bf",
   "metadata": {},
   "outputs": [],
   "source": [
    "# 3D\n",
    "# Normalizador type 2, n_neighbors=500, min_dist=0.5\n",
    "reducer, embedding = implementacion_umap(df_, normalizador='type 2', min_dist=0.5, n_neighbors=500, n_components=3)\n",
    "grafico_umap(embedding, tiempo, title='Umap Projection 3D all data', s=1)"
   ]
  },
  {
   "cell_type": "code",
   "execution_count": null,
   "id": "b00472b9",
   "metadata": {},
   "outputs": [],
   "source": [
    "fig = plt.figure(figsize=(8, 6))\n",
    "ax = fig.add_subplot(111, projection='3d')\n",
    "ax.scatter(embedding[:, 1], embedding[:, 0], embedding[:, 2], c=tiempo, cmap='viridis', s=1)\n",
    "ax.set_title('Umap Projection 3D all data')\n",
    "ax.set_xlabel('Dimension 2')\n",
    "ax.set_ylabel('Dimension 1')\n",
    "ax.set_zlabel('Dimension 3')\n",
    "plt.show()"
   ]
  },
  {
   "cell_type": "code",
   "execution_count": null,
   "id": "0350ce19",
   "metadata": {
    "scrolled": false
   },
   "outputs": [],
   "source": [
    "for n in (15, 50, 100, 250, 500):\n",
    "    reducer, embedding = implementacion_umap(df_, normalizador='type 1', min_dist=0.5, n_neighbors=n, n_components=2)\n",
    "    grafico_umap(embedding, tiempo, title='Umap Projection 2D all data', s=1)"
   ]
  },
  {
   "cell_type": "code",
   "execution_count": null,
   "id": "65c29f04",
   "metadata": {
    "scrolled": false
   },
   "outputs": [],
   "source": [
    "for n in (15, 50, 100, 250, 500):\n",
    "    reducer, embedding = implementacion_umap(df_, normalizador='type 2', min_dist=0.5, n_neighbors=n, n_components=2)\n",
    "    grafico_umap(embedding, tiempo, title='Umap Projection 2D all data', s=1)"
   ]
  },
  {
   "cell_type": "code",
   "execution_count": null,
   "id": "dc7885e3",
   "metadata": {},
   "outputs": [],
   "source": [
    "# Extra: Cambiare metric, aunque no se...me causa duda duda duda\n",
    "reducer, embedding = implementacion_umap(df_, normalizador='type 2', min_dist=0.5, n_neighbors=500, n_components=2, metric='cosine')\n",
    "grafico_umap(embedding, tiempo, title='Umap Projection 2D all data', s=1)"
   ]
  },
  {
   "cell_type": "code",
   "execution_count": null,
   "id": "d59f7fbb",
   "metadata": {},
   "outputs": [],
   "source": [
    "# Extra: Cambiare metric, aunque no se...me causa duda duda duda\n",
    "reducer, embedding = implementacion_umap(df_, normalizador='type 2', min_dist=0.5, n_neighbors=500, n_components=3, metric='cosine')\n",
    "grafico_umap(embedding, tiempo, title='Umap Projection 2D all data', s=1)"
   ]
  },
  {
   "cell_type": "code",
   "execution_count": null,
   "id": "18ceb297",
   "metadata": {},
   "outputs": [],
   "source": [
    "# Extra: Cambiare metric, aunque no se...me causa duda duda duda\n",
    "reducer, embedding = implementacion_umap(df_, normalizador='type 2', min_dist=0.5, n_neighbors=500, n_components=2, metric='chebyshev')\n",
    "grafico_umap(embedding, tiempo, title='Umap Projection 2D all data', s=1)"
   ]
  },
  {
   "cell_type": "code",
   "execution_count": null,
   "id": "e1c3df30",
   "metadata": {},
   "outputs": [],
   "source": [
    "# Extra: Cambiare metric, aunque no se...me causa duda duda duda\n",
    "reducer, embedding = implementacion_umap(df_, normalizador='type 2', min_dist=0.5, n_neighbors=500, n_components=3, metric='chebyshev')\n",
    "grafico_umap(embedding, tiempo, title='Umap Projection 2D all data', s=1)"
   ]
  },
  {
   "cell_type": "code",
   "execution_count": null,
   "id": "7d507471",
   "metadata": {},
   "outputs": [],
   "source": []
  },
  {
   "cell_type": "code",
   "execution_count": null,
   "id": "2a593c09",
   "metadata": {},
   "outputs": [],
   "source": []
  }
 ],
 "metadata": {
  "kernelspec": {
   "display_name": "Python 3 (ipykernel)",
   "language": "python",
   "name": "python3"
  },
  "language_info": {
   "codemirror_mode": {
    "name": "ipython",
    "version": 3
   },
   "file_extension": ".py",
   "mimetype": "text/x-python",
   "name": "python",
   "nbconvert_exporter": "python",
   "pygments_lexer": "ipython3",
   "version": "3.9.12"
  }
 },
 "nbformat": 4,
 "nbformat_minor": 5
}
