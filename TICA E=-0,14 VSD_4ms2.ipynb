{
 "cells": [
  {
   "cell_type": "markdown",
   "id": "e1a6a91b",
   "metadata": {},
   "source": [
    "# Implementación de TICA: datos de E=-0,14 VSD_4ms2"
   ]
  },
  {
   "cell_type": "code",
   "execution_count": null,
   "id": "593b8e06",
   "metadata": {},
   "outputs": [],
   "source": [
    "import os\n",
    "import pandas as pd\n",
    "import numpy as np\n",
    "from tqdm import tqdm\n",
    "import matplotlib.pyplot as plt\n",
    "import re\n",
    "from pyemma.coordinates import tica\n",
    "import seaborn as sns\n",
    "from collections import Counter\n",
    "from sklearn.preprocessing import StandardScaler"
   ]
  },
  {
   "cell_type": "markdown",
   "id": "f528597b",
   "metadata": {},
   "source": [
    "## Carga de datos"
   ]
  },
  {
   "cell_type": "code",
   "execution_count": null,
   "id": "dbd69815",
   "metadata": {},
   "outputs": [],
   "source": [
    "path = \"/home/lcampos/zeus/proyecto_fondecyt/CODE/\"\n",
    "df_energy = pd.read_csv(path+'csv_creados/df_energy_E-014_VSD_4ms2.csv')\n",
    "df_energy.set_index(['R', 'Unnamed: 1'], inplace=True) \n",
    "df_energy.rename_axis(index={'Unnamed: 1': 'Time'}, inplace=True)\n",
    "df_pca = pd.read_csv(path+'csv_creados/df_pca_E-014_VSD_4ms2.csv')\n",
    "df_pca.set_index(['R', 'Unnamed: 1'], inplace=True)  \n",
    "df_pca.rename_axis(index={'Unnamed: 1': 'Time'}, inplace=True)"
   ]
  },
  {
   "cell_type": "code",
   "execution_count": null,
   "id": "02bc6750",
   "metadata": {},
   "outputs": [],
   "source": [
    "data = df_energy.join([df_pca])\n",
    "data"
   ]
  },
  {
   "cell_type": "markdown",
   "id": "e141bf34",
   "metadata": {},
   "source": [
    "## Funciones para implementar TICA\n",
    "\n",
    "A diferencia de UMAP, TICA requiere los datos normalizados de manera que tengan media $0$ y std $1$.\n",
    "\n",
    "Con dim=-1 TICA elige el valor de dim (tomando los valores propios que esten sobre cierto umbral). Para efectos de la implementación, siempre se usará dim=-1 pues TICA comunmente (en este set de datos) retorna mas de 2 dimensiones"
   ]
  },
  {
   "cell_type": "code",
   "execution_count": null,
   "id": "5b65ee22",
   "metadata": {},
   "outputs": [],
   "source": [
    "def implementacion_TICA(dataset, lag=50, dim=-1):\n",
    "    scaler = StandardScaler()\n",
    "    X_scaled = scaler.fit_transform(dataset.values)\n",
    "    p_t = tica(X_scaled, lag=lag, dim=dim)\n",
    "    embedding = p_t.get_output()[0]\n",
    "    \n",
    "    return p_t, embedding\n",
    "\n",
    "def grafico_TICA(embedding, color, dim=2, title='TICA Projection', s=5):\n",
    "    if dim == 2:\n",
    "        plt.figure(figsize=(8, 6))\n",
    "        plt.scatter(embedding[:, 0], embedding[:, 1], c = color, s=s)\n",
    "        plt.title(title)\n",
    "        plt.xlabel('Dimension 1')\n",
    "        plt.ylabel('Dimension 2')\n",
    "        plt.show() \n",
    "        \n",
    "    elif dim == 3:\n",
    "        fig = plt.figure(figsize=(8, 6))\n",
    "        ax = fig.add_subplot(111, projection='3d')\n",
    "        ax.scatter(embedding[:, 0], embedding[:, 1], embedding[:, 2], c=color, cmap='viridis', s=s)\n",
    "        ax.set_title(title)\n",
    "        ax.set_xlabel('Dimension 1')\n",
    "        ax.set_ylabel('Dimension 2')\n",
    "        ax.set_zlabel('Dimension 3')\n",
    "        plt.show()"
   ]
  },
  {
   "cell_type": "code",
   "execution_count": null,
   "id": "53ac6655",
   "metadata": {},
   "outputs": [],
   "source": [
    "# La siguiente función sirve para ver los dimensiones más \"\"significativas\"\" (en el sentido explicado \n",
    "# en el informe/presentacion). Nota: Funciona solo para datasets que tengan mas de una repetición\n",
    "\n",
    "def dims_significativas(dataset, rep=100, lag=50, dim=-1):\n",
    "    imp_per_rep = {}  # dimensiones importantes por repeticion\n",
    "    imp_all =[]  # todas las dimensiones importantes (se repiten por cada valor ppio de cada Simulación)\n",
    "    imp = []  # Dims importantes\n",
    "    for i in range(rep):\n",
    "        df_i = dataset.loc[dataset.index.get_level_values('R') == i+1]\n",
    "        scaler = StandardScaler()\n",
    "        X_scaled = scaler.fit_transform(df_i.values)\n",
    "        p_t_i = tica(X_scaled, lag=50, dim=-1)\n",
    "        embedding_i = p_t_i.get_output()[0]\n",
    "        eig_vect_i = p_t_i.eigenvectors\n",
    "        eig_val_i = p_t_i.eigenvalues\n",
    "        imp_per_rep[i+1] = {}\n",
    "\n",
    "        a = []\n",
    "        for j in range(3):  # Solo considero los 3 valores ppios mas grandes\n",
    "            modulos = np.abs(eig_vect_i[:, j])\n",
    "            umbral = np.mean(modulos) + 1 * np.std(modulos)  # Este criterio puede cambiar\n",
    "            indices_greater = np.where(np.abs(eig_vect_i[:,j]) > umbral)\n",
    "            imp_per_rep[i+1][j] = [data.columns[x] for x in np.unique(indices_greater[0])]\n",
    "            for x in np.unique(indices_greater[0]):\n",
    "                imp_all.append(data.columns[x])\n",
    "                if data.columns[x] not in a:\n",
    "                    a.append(data.columns[x])\n",
    "        for x in a:\n",
    "            imp.append(x)\n",
    "    # se podrían retornar también las demás, pero para efectos de lo que presentaré (y usaré) solo me interesa esta        \n",
    "    return imp"
   ]
  },
  {
   "cell_type": "markdown",
   "id": "564700d3",
   "metadata": {},
   "source": [
    "## Tica a cada repetición"
   ]
  },
  {
   "cell_type": "code",
   "execution_count": null,
   "id": "ec4f8e92",
   "metadata": {},
   "outputs": [],
   "source": [
    "# tau = 50\n",
    "for i in range(100):\n",
    "    df_i = data.loc[data.index.get_level_values('R') == i+1]\n",
    "    p_t, embedding = implementacion_TICA(df_i, lag=50, dim=-1)\n",
    "    grafico_TICA(embedding, np.linspace(0,50000,5001), dim=2, title='TICA Projection 2D- Repetition'+str(i+1), s=5)\n",
    "    grafico_TICA(embedding, np.linspace(0,50000,5001), dim=3, title='TICA Projection 3D- Repetition'+str(i+1), s=5)"
   ]
  },
  {
   "cell_type": "code",
   "execution_count": null,
   "id": "54574f17",
   "metadata": {},
   "outputs": [],
   "source": [
    "# tau = 600\n",
    "for i in range(100):\n",
    "    df_i = data.loc[data.index.get_level_values('R') == i+1]\n",
    "    p_t, embedding = implementacion_TICA(df_i, lag=600, dim=-1)\n",
    "    grafico_TICA(embedding, np.linspace(0,50000,5001), dim=2, title='TICA Projection 2D- Repetition'+str(i+1), s=5)\n",
    "    grafico_TICA(embedding, np.linspace(0,50000,5001), dim=3, title='TICA Projection 3D- Repetition'+str(i+1), s=5)"
   ]
  },
  {
   "cell_type": "code",
   "execution_count": null,
   "id": "497f4b93",
   "metadata": {},
   "outputs": [],
   "source": [
    "# tau = 1000\n",
    "for i in range(100):\n",
    "    df_i = data.loc[data.index.get_level_values('R') == i+1]\n",
    "    p_t, embedding = implementacion_TICA(df_i, lag=1000, dim=-1)\n",
    "    grafico_TICA(embedding, np.linspace(0,50000,5001), dim=2, title='TICA Projection 2D- Repetition'+str(i+1), s=5)\n",
    "    grafico_TICA(embedding, np.linspace(0,50000,5001), dim=3, title='TICA Projection 3D- Repetition'+str(i+1), s=5)"
   ]
  },
  {
   "cell_type": "code",
   "execution_count": null,
   "id": "56637053",
   "metadata": {},
   "outputs": [],
   "source": [
    "imp = dims_significativas(data, rep=100, lag=50, dim=-1)"
   ]
  },
  {
   "cell_type": "code",
   "execution_count": null,
   "id": "7c99a48b",
   "metadata": {},
   "outputs": [],
   "source": [
    "frecuencia_elementos = Counter(imp)\n",
    "\n",
    "for elemento, frecuencia in frecuencia_elementos.items():\n",
    "    print(f\"{elemento}: {frecuencia} veces\")"
   ]
  },
  {
   "cell_type": "code",
   "execution_count": null,
   "id": "73ee9162",
   "metadata": {},
   "outputs": [],
   "source": [
    "elementos, frecuencias = zip(*sorted(frecuencia_elementos.items(), key=lambda x: x[1], reverse=True))\n",
    "plt.figure(figsize=(8, 6))\n",
    "plt.plot(elementos, frecuencias, marker='o')\n",
    "plt.xticks(rotation=60, ha='right')\n",
    "plt.show()"
   ]
  },
  {
   "cell_type": "code",
   "execution_count": null,
   "id": "52d03bc5",
   "metadata": {},
   "outputs": [],
   "source": [
    "frecuencia_elementos = Counter(imp)\n",
    "columnas_tica = []\n",
    "\n",
    "for elemento, frecuencia in frecuencia_elementos.items():\n",
    "    if frecuencia>40:\n",
    "        print(f\"{elemento}: {frecuencia} veces\")\n",
    "        columnas_tica.append(elemento)"
   ]
  },
  {
   "cell_type": "markdown",
   "id": "430761a7",
   "metadata": {},
   "source": [
    "## TICA sobre todo el set de datos"
   ]
  },
  {
   "cell_type": "code",
   "execution_count": null,
   "id": "99ce280f",
   "metadata": {},
   "outputs": [],
   "source": [
    "tiempo = np.tile(np.linspace(0,50000,5001),100)\n",
    "p_t, embedding = implementacion_TICA(data, lag=50, dim=-1) \n",
    "grafico_TICA(embedding, tiempo, dim=2, title='TICA Projection 2D all data', s=1)\n",
    "grafico_TICA(embedding, tiempo, dim=3, title='TICA Projection 3D all data', s=1)"
   ]
  },
  {
   "cell_type": "code",
   "execution_count": null,
   "id": "7bf9e694",
   "metadata": {},
   "outputs": [],
   "source": [
    "fig = plt.figure(figsize=(8, 6))\n",
    "ax = fig.add_subplot(111, projection='3d')\n",
    "ax.scatter(embedding[:, 1], embedding[:, 0], embedding[:, 2], c=tiempo, cmap='viridis', s=1)\n",
    "ax.set_title('TICA Projection 3D all data')\n",
    "ax.set_xlabel('Dimension 2')\n",
    "ax.set_ylabel('Dimension 1')\n",
    "ax.set_zlabel('Dimension 3')\n",
    "plt.show()"
   ]
  },
  {
   "cell_type": "code",
   "execution_count": null,
   "id": "6ffd938c",
   "metadata": {},
   "outputs": [],
   "source": [
    "for i in range(100):\n",
    "    subset_embedding = embedding[5001*i:5001*(i+1)]  \n",
    "    plt.figure(figsize=(8, 6))\n",
    "    plt.scatter(subset_embedding[:, 0], subset_embedding[:, 1], c = np.linspace(0,50000,5001), s=5)\n",
    "    plt.xlim([-2, 5])\n",
    "    plt.ylim([-4, 4])\n",
    "    plt.title('TICA projection 3D of all repetition, repetition '+str(i+1))\n",
    "    plt.xlabel('Dimension 1')\n",
    "    plt.ylabel('Dimension 2')\n",
    "    plt.show()"
   ]
  },
  {
   "cell_type": "code",
   "execution_count": null,
   "id": "bb49b84c",
   "metadata": {},
   "outputs": [],
   "source": [
    "for i in range(100):\n",
    "    subset_embedding = embedding[5001*i:5001*(i+1)]  \n",
    "    fig = plt.figure()\n",
    "    ax = fig.add_subplot(111, projection='3d')\n",
    "    ax.scatter(subset_embedding[:, 0], subset_embedding[:, 1], subset_embedding[:, 2], c=np.linspace(0,50000,5001), cmap='viridis', s=5)\n",
    "    ax.set_title('TICA projection 3D of all repetition, repetition '+str(i+1))\n",
    "    ax.set_xlabel('Dimension 1')\n",
    "    ax.set_ylabel('Dimension 2')\n",
    "    ax.set_zlabel('Dimension 3')\n",
    "    plt.show()"
   ]
  },
  {
   "cell_type": "code",
   "execution_count": null,
   "id": "da66393f",
   "metadata": {},
   "outputs": [],
   "source": [
    "imp_all =[]\n",
    "imp = []\n",
    "\n",
    "eig_vect = p_t.eigenvectors\n",
    "eig_val = p_t.eigenvalues\n",
    "\n",
    "a = []\n",
    "for j in range(3):\n",
    "    modulos = np.abs(eig_vect[:, j])\n",
    "    umbral = np.mean(modulos) + 1 * np.std(modulos)\n",
    "    indices_greater = np.where(np.abs(eig_vect[:,j]) > umbral)\n",
    "    #print(eig_vect[:,j])\n",
    "    for x in np.unique(indices_greater[0]):\n",
    "        imp_all.append(data.columns[x])\n",
    "        if data.columns[x] not in a:\n",
    "            a.append(data.columns[x])\n",
    "for x in a:\n",
    "    imp.append(x)"
   ]
  },
  {
   "cell_type": "code",
   "execution_count": null,
   "id": "7057e6d2",
   "metadata": {},
   "outputs": [],
   "source": [
    "imp"
   ]
  },
  {
   "cell_type": "code",
   "execution_count": null,
   "id": "33e8ec75",
   "metadata": {},
   "outputs": [],
   "source": [
    "df = data[columnas_tica]\n",
    "tiempo = np.tile(np.linspace(0,50000,5001),100)\n",
    "p_t, embedding = implementacion_TICA(df, lag=50, dim=-1) \n",
    "grafico_TICA(embedding, tiempo, dim=2, title='TICA Projection 2D all data', s=1)\n",
    "grafico_TICA(embedding, tiempo, dim=3, title='TICA Projection 3D all data', s=1)"
   ]
  },
  {
   "cell_type": "code",
   "execution_count": null,
   "id": "321a3c81",
   "metadata": {},
   "outputs": [],
   "source": []
  }
 ],
 "metadata": {
  "kernelspec": {
   "display_name": "Python 3 (ipykernel)",
   "language": "python",
   "name": "python3"
  },
  "language_info": {
   "codemirror_mode": {
    "name": "ipython",
    "version": 3
   },
   "file_extension": ".py",
   "mimetype": "text/x-python",
   "name": "python",
   "nbconvert_exporter": "python",
   "pygments_lexer": "ipython3",
   "version": "3.9.12"
  }
 },
 "nbformat": 4,
 "nbformat_minor": 5
}
