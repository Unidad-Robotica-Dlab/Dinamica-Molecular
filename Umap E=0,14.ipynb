{
 "cells": [
  {
   "cell_type": "markdown",
   "id": "af8d9983",
   "metadata": {},
   "source": [
    "# Implementación de UMAP: Datos de E=0,14"
   ]
  },
  {
   "cell_type": "code",
   "execution_count": null,
   "id": "85c1648a",
   "metadata": {},
   "outputs": [],
   "source": [
    "import os\n",
    "import pandas as pd\n",
    "import numpy as np\n",
    "from tqdm import tqdm\n",
    "import matplotlib.pyplot as plt\n",
    "import re\n",
    "import umap.umap_ as umap\n",
    "import umap.plot\n",
    "from sklearn.preprocessing import StandardScaler"
   ]
  },
  {
   "cell_type": "markdown",
   "id": "6ec83716",
   "metadata": {},
   "source": [
    "## Carga de datos"
   ]
  },
  {
   "cell_type": "code",
   "execution_count": null,
   "id": "d0e66db0",
   "metadata": {},
   "outputs": [],
   "source": [
    "path = \"/home/lcampos/zeus/proyecto_fondecyt/CODE/\"\n",
    "df_pca = pd.read_csv(path+'csv_creados/df_pca_E014.csv')\n",
    "df_pca.set_index(['R', 'Unnamed: 1'], inplace=True) \n",
    "df_pca.rename_axis(index={'Unnamed: 1': 'Time'}, inplace=True)\n",
    "df_energy = pd.read_csv(path+'csv_creados/df_energy_E014.csv')\n",
    "df_energy.set_index(['R', 'Unnamed: 1'], inplace=True)  \n",
    "df_energy.rename_axis(index={'Unnamed: 1': 'Time'}, inplace=True)"
   ]
  },
  {
   "cell_type": "code",
   "execution_count": null,
   "id": "48e9314f",
   "metadata": {},
   "outputs": [],
   "source": [
    "data = df_energy.join([df_pca])\n",
    "data"
   ]
  },
  {
   "cell_type": "markdown",
   "id": "ab7f2a56",
   "metadata": {},
   "source": [
    "## Funciones para implementar UMAP\n",
    "\n",
    "Se requiere que los datos estén normalizados, sin embargo, hay 2 posibles normalizaciones a considerar\n",
    "\n",
    "normalizador type 1: Los estandariza de manera que tengan media $0$ y std $1$.\n",
    "\n",
    "normalizador type 2: Representa los datos a $[0,1]$."
   ]
  },
  {
   "cell_type": "code",
   "execution_count": null,
   "id": "ca99517d",
   "metadata": {},
   "outputs": [],
   "source": [
    "def min_max_normalize(column):\n",
    "    return (column - column.min()) / (column.max() - column.min() + 1e-8)  # se suma la cte pequeña pues hay columnas con valores ctes\n",
    "\n",
    "def implementacion_umap(dataset, normalizador='type 1', min_dist=0.1, n_neighbors=15, n_components=2):\n",
    "    if normalizador=='type 1':\n",
    "        scaler = StandardScaler()\n",
    "        X_scaled = scaler.fit_transform(dataset.values)\n",
    "    \n",
    "    elif normalizador=='type 2':\n",
    "        X_scaled = dataset.apply(min_max_normalize).values\n",
    "        \n",
    "    reducer = umap.UMAP(n_neighbors=n_neighbors,\n",
    "                            min_dist=min_dist,\n",
    "                            n_components=n_components,\n",
    "                            metric='euclidean')\n",
    "    embedding = reducer.fit_transform(X_scaled)\n",
    "    \n",
    "    return reducer, embedding\n",
    "\n",
    "def grafico_umap(embedding, color, title='Umap Projection', s=5):\n",
    "    x, y = embedding.shape\n",
    "    \n",
    "    if y == 2:\n",
    "        plt.figure(figsize=(8, 6))\n",
    "        plt.scatter(embedding[:, 0], embedding[:, 1], c = color, s=s)\n",
    "        plt.title(title)\n",
    "        plt.xlabel('Dimension 1')\n",
    "        plt.ylabel('Dimension 2')\n",
    "        plt.show() \n",
    "        \n",
    "    elif y == 3:\n",
    "        fig = plt.figure(figsize=(8, 6))\n",
    "        ax = fig.add_subplot(111, projection='3d')\n",
    "        ax.scatter(embedding[:, 0], embedding[:, 1], embedding[:, 2], c=color, cmap='viridis', s=s)\n",
    "        ax.set_title(title)\n",
    "        ax.set_xlabel('Dimension 1')\n",
    "        ax.set_ylabel('Dimension 2')\n",
    "        ax.set_zlabel('Dimension 3')\n",
    "        plt.show()     "
   ]
  },
  {
   "cell_type": "markdown",
   "id": "514be84b",
   "metadata": {},
   "source": [
    "## Umap a cada repetición\n",
    "Considera n\\_neighbors=100 y min\\_dist=0.1"
   ]
  },
  {
   "cell_type": "code",
   "execution_count": null,
   "id": "1a645a08",
   "metadata": {},
   "outputs": [],
   "source": [
    "# 2D\n",
    "# Normalizador type 1: datos con media 0 y std=1\n",
    "for i in range(100):\n",
    "    df_i = data.loc[data.index.get_level_values('R') == i+1]\n",
    "    reducer, embedding = implementacion_umap(df_i, normalizador='type 1', min_dist=0.1, n_neighbors=100, n_components=2)\n",
    "    grafico_umap(embedding, np.linspace(0,50000,5001), title='Umap Projection- Repetition'+str(i+1), s=5)"
   ]
  },
  {
   "cell_type": "code",
   "execution_count": null,
   "id": "e9cb19b0",
   "metadata": {
    "scrolled": true
   },
   "outputs": [],
   "source": [
    "# 3D\n",
    "# Normalizador type 1: datos con media 0 y std=1\n",
    "for i in range(100):\n",
    "    df_i = data.loc[data.index.get_level_values('R') == i+1]\n",
    "    reducer, embedding = implementacion_umap(df_i, normalizador='type 1', min_dist=0.1, n_neighbors=100, n_components=3)\n",
    "    grafico_umap(embedding, np.linspace(0,50000,5001), title='Umap Projection- Repetition'+str(i+1), s=5)"
   ]
  },
  {
   "cell_type": "code",
   "execution_count": null,
   "id": "68a2ea45",
   "metadata": {},
   "outputs": [],
   "source": [
    "# 2D\n",
    "# Normalizador type 2: datos representados en [0,1]\n",
    "for i in range(100):\n",
    "    df_i = data.loc[data.index.get_level_values('R') == i+1]\n",
    "    reducer, embedding = implementacion_umap(df_i, normalizador='type 2', min_dist=0.1, n_neighbors=100, n_components=2)\n",
    "    grafico_umap(embedding, np.linspace(0,50000,5001), title='Umap Projection- Repetition' +str(i+1), s=5)"
   ]
  },
  {
   "cell_type": "code",
   "execution_count": null,
   "id": "60fae4da",
   "metadata": {},
   "outputs": [],
   "source": [
    "# 3D\n",
    "# Normalizador type 2: datos representados en [0,1]\n",
    "for i in range(100):\n",
    "    df_i = data.loc[data.index.get_level_values('R') == i+1]\n",
    "    reducer, embedding = implementacion_umap(df_i, normalizador='type 2', min_dist=0.1, n_neighbors=100, n_components=3)\n",
    "    grafico_umap(embedding, np.linspace(0,50000,5001), title='Umap Projection- Repetition' +str(i+1), s=5)"
   ]
  },
  {
   "cell_type": "markdown",
   "id": "e11aea03",
   "metadata": {},
   "source": [
    "## Umap sobre (casi) todos los datos\n",
    "Dada la cantidad de datos, y lo lento que es UMAP, consideraremos un set de datos reducido"
   ]
  },
  {
   "cell_type": "code",
   "execution_count": null,
   "id": "5fee951f",
   "metadata": {},
   "outputs": [],
   "source": [
    "time_values = np.append(np.array([0,10]),np.arange(100,50010,100))\n",
    "tiempo = np.tile(time_values,100)\n",
    "df_ = data.loc[data.index.get_level_values('Time').isin(time_values)]\n",
    "df_"
   ]
  },
  {
   "cell_type": "code",
   "execution_count": null,
   "id": "23f7b9a0",
   "metadata": {},
   "outputs": [],
   "source": [
    "# 2D\n",
    "# Normalizador type 1, n_neighbors=15\n",
    "reducer, embedding = implementacion_umap(df_, normalizador='type 1', min_dist=0.1, n_neighbors=15, n_components=2)\n",
    "grafico_umap(embedding, tiempo, title='Umap Projection 2D all data', s=1)"
   ]
  },
  {
   "cell_type": "code",
   "execution_count": null,
   "id": "2c784427",
   "metadata": {},
   "outputs": [],
   "source": [
    "# 2D\n",
    "# Normalizador type 1, n_neighbors=100\n",
    "reducer, embedding = implementacion_umap(df_, normalizador='type 1', min_dist=0.1, n_neighbors=100, n_components=2)\n",
    "grafico_umap(embedding, tiempo, title='Umap Projection 2D all data', s=1)"
   ]
  },
  {
   "cell_type": "code",
   "execution_count": null,
   "id": "8198b45c",
   "metadata": {},
   "outputs": [],
   "source": [
    "# Crear un gráfico UMAP para cada repetición, como los datos estan ordenados no debiese haber problema\n",
    "for i in range(100):\n",
    "    subset_embedding = embedding[502*i:502*(i+1)]\n",
    "    plt.figure(figsize=(8, 6))\n",
    "    plt.scatter(subset_embedding[:, 0], subset_embedding[:, 1], c=time_values,  s=1)\n",
    "    plt.title(f'UMAP Projection 2D of all repetition, repetition ' + str(i+1))\n",
    "    plt.xlabel('UMAP Dimension 1')\n",
    "    plt.ylabel('UMAP Dimension 2')\n",
    "    plt.show()"
   ]
  },
  {
   "cell_type": "code",
   "execution_count": null,
   "id": "7c60c807",
   "metadata": {},
   "outputs": [],
   "source": [
    "# 3D\n",
    "# Normalizador type 1, n_neighbors=15\n",
    "reducer, embedding = implementacion_umap(df_, normalizador='type 1', min_dist=0.1, n_neighbors=15, n_components=3)\n",
    "grafico_umap(embedding, tiempo, title='Umap Projection 2D all data', s=1)"
   ]
  },
  {
   "cell_type": "code",
   "execution_count": null,
   "id": "ed80054b",
   "metadata": {},
   "outputs": [],
   "source": [
    "# 3D\n",
    "# Normalizador type 1, n_neighbors=100\n",
    "reducer, embedding = implementacion_umap(df_, normalizador='type 1', min_dist=0.1, n_neighbors=100, n_components=3)\n",
    "grafico_umap(embedding, tiempo, title='Umap Projection 3D all data', s=1)"
   ]
  },
  {
   "cell_type": "code",
   "execution_count": null,
   "id": "6d5e4e5d",
   "metadata": {},
   "outputs": [],
   "source": [
    "# Crear un gráfico UMAP para cada repeticion\n",
    "for i in range(100):\n",
    "    subset_embedding = embedding[502*i:502*(i+1)]\n",
    "    fig = plt.figure()\n",
    "    ax = fig.add_subplot(111, projection='3d')\n",
    "    ax.scatter(subset_embedding[:, 0], subset_embedding[:, 1], subset_embedding[:, 2], c=time_values, cmap='viridis', s=1)\n",
    "    ax.set_title('UMAP projection 3D of all repetition, repetition '+str(i+1))\n",
    "    ax.set_xlabel('Dimension 1')\n",
    "    ax.set_ylabel('Dimension 2')\n",
    "    ax.set_zlabel('Dimension 3')\n",
    "    plt.show()"
   ]
  },
  {
   "cell_type": "code",
   "execution_count": null,
   "id": "b1e02553",
   "metadata": {},
   "outputs": [],
   "source": [
    "# 2D\n",
    "# Normalizador type 1, n_neighbors=15\n",
    "reducer, embedding = implementacion_umap(df_, normalizador='type 2', min_dist=0.1, n_neighbors=15, n_components=2)\n",
    "grafico_umap(embedding, tiempo, title='Umap Projection 2D all data', s=1)"
   ]
  },
  {
   "cell_type": "code",
   "execution_count": null,
   "id": "ccccdc1d",
   "metadata": {},
   "outputs": [],
   "source": [
    "# 2D\n",
    "# Normalizador type 2, n_neighbors=100\n",
    "reducer, embedding = implementacion_umap(df_, normalizador='type 2', min_dist=0.1, n_neighbors=100, n_components=2)\n",
    "grafico_umap(embedding, tiempo, title='Umap Projection 3D all data', s=1)"
   ]
  },
  {
   "cell_type": "code",
   "execution_count": null,
   "id": "430dcfcd",
   "metadata": {},
   "outputs": [],
   "source": [
    "# Es la misma que la anterior, pero sin los lim de los ejes\n",
    "for i in range(100):\n",
    "    subset_embedding = embedding[502*i:502*(i+1)]\n",
    "    plt.figure(figsize=(8, 6))\n",
    "    plt.scatter(subset_embedding[:, 0], subset_embedding[:, 1], c=time_values,  s=1)\n",
    "    plt.title(f'UMAP Projection 2D of all repetition, repetition ' + str(i+1))\n",
    "    plt.xlabel('UMAP Dimension 1')\n",
    "    plt.ylabel('UMAP Dimension 2')\n",
    "    plt.show()"
   ]
  },
  {
   "cell_type": "code",
   "execution_count": null,
   "id": "7f65bcdf",
   "metadata": {},
   "outputs": [],
   "source": [
    "# 3D\n",
    "# Normalizador type 2, n_neighbors=15\n",
    "reducer, embedding = implementacion_umap(df_, normalizador='type 1', min_dist=0.1, n_neighbors=15, n_components=3)\n",
    "grafico_umap(embedding, tiempo, title='Umap Projection 2D all data', s=1)"
   ]
  },
  {
   "cell_type": "code",
   "execution_count": null,
   "id": "2471cfcb",
   "metadata": {},
   "outputs": [],
   "source": [
    "# 3D\n",
    "# Normalizador type 2, n_neighbors=100\n",
    "reducer, embedding = implementacion_umap(df_, normalizador='type 2', min_dist=0.1, n_neighbors=100, n_components=3)\n",
    "grafico_umap(embedding, tiempo, title='Umap Projection 3D all data', s=1)"
   ]
  },
  {
   "cell_type": "code",
   "execution_count": null,
   "id": "90a3b16c",
   "metadata": {},
   "outputs": [],
   "source": [
    "# Crear un gráfico UMAP para cada repeticion\n",
    "for i in range(100):\n",
    "    subset_embedding = embedding[502*i:502*(i+1)]\n",
    "    fig = plt.figure()\n",
    "    ax = fig.add_subplot(111, projection='3d')\n",
    "    ax.scatter(subset_embedding[:, 0], subset_embedding[:, 1], subset_embedding[:, 2], c=time_values, cmap='viridis', s=1)\n",
    "    ax.set_title('UMAP projection 3D of all repetition, repetition '+str(i+1))\n",
    "    ax.set_xlabel('Dimension 1')\n",
    "    ax.set_ylabel('Dimension 2')\n",
    "    ax.set_zlabel('Dimension 3')\n",
    "    plt.show()"
   ]
  },
  {
   "cell_type": "markdown",
   "id": "9406bed1",
   "metadata": {},
   "source": [
    "## Variar parametros"
   ]
  },
  {
   "cell_type": "code",
   "execution_count": null,
   "id": "8aeed029",
   "metadata": {},
   "outputs": [],
   "source": [
    "# 2D\n",
    "# Normalizador type 1, n_neighbors=500, min_dist=0.1\n",
    "reducer, embedding = implementacion_umap(df_, normalizador='type 1', min_dist=0.1, n_neighbors=500, n_components=2)\n",
    "grafico_umap(embedding, tiempo, title='Umap Projection 2D all data', s=1)"
   ]
  },
  {
   "cell_type": "code",
   "execution_count": null,
   "id": "11d0d55e",
   "metadata": {},
   "outputs": [],
   "source": [
    "# 2D\n",
    "# Normalizador type 1, n_neighbors=500, min_dist=0.1\n",
    "reducer, embedding = implementacion_umap(df_, normalizador='type 1', min_dist=0.5, n_neighbors=250, n_components=2)\n",
    "grafico_umap(embedding, tiempo, title='Umap Projection 2D all data', s=1)"
   ]
  },
  {
   "cell_type": "code",
   "execution_count": null,
   "id": "c0ee3362",
   "metadata": {},
   "outputs": [],
   "source": [
    "# 2D\n",
    "# Normalizador type 1, n_neighbors=500, min_dist=0.5\n",
    "reducer, embedding = implementacion_umap(df_, normalizador='type 1', min_dist=0.5, n_neighbors=500, n_components=2)\n",
    "grafico_umap(embedding, tiempo, title='Umap Projection 2D all data', s=1)"
   ]
  },
  {
   "cell_type": "code",
   "execution_count": null,
   "id": "bea93591",
   "metadata": {},
   "outputs": [],
   "source": [
    "# 2D\n",
    "# Normalizador type 2, n_neighbors=500, min_dist=0.1\n",
    "reducer, embedding = implementacion_umap(df_, normalizador='type 2', min_dist=0.1, n_neighbors=500, n_components=2)\n",
    "grafico_umap(embedding, tiempo, title='Umap Projection 2D all data', s=1)"
   ]
  },
  {
   "cell_type": "code",
   "execution_count": null,
   "id": "3a65a6b6",
   "metadata": {},
   "outputs": [],
   "source": [
    "# 2D\n",
    "# Normalizador type 1, n_neighbors=500, min_dist=0.1\n",
    "reducer, embedding = implementacion_umap(df_, normalizador='type 2', min_dist=0.5, n_neighbors=250, n_components=2)\n",
    "grafico_umap(embedding, tiempo, title='Umap Projection 2D all data', s=1)"
   ]
  },
  {
   "cell_type": "code",
   "execution_count": null,
   "id": "be986680",
   "metadata": {},
   "outputs": [],
   "source": [
    "# 2D\n",
    "# Normalizador type 2, n_neighbors=500, min_dist=0.5\n",
    "reducer, embedding = implementacion_umap(df_, normalizador='type 2', min_dist=0.5, n_neighbors=500, n_components=2)\n",
    "grafico_umap(embedding, tiempo, title='Umap Projection 2D all data', s=1)"
   ]
  },
  {
   "cell_type": "code",
   "execution_count": null,
   "id": "e23e8373",
   "metadata": {},
   "outputs": [],
   "source": [
    "# Es la misma que la anterior, pero sin los lim de los ejes\n",
    "for i in range(100):\n",
    "    subset_embedding = embedding[502*i:502*(i+1)]\n",
    "    plt.figure(figsize=(8, 6))\n",
    "    plt.scatter(subset_embedding[:, 0], subset_embedding[:, 1], c=time_values,  s=1)\n",
    "    plt.title(f'UMAP Projection 2D of all repetition, repetition ' + str(i+1))\n",
    "    plt.xlabel('UMAP Dimension 1')\n",
    "    plt.ylabel('UMAP Dimension 2')\n",
    "    plt.show()"
   ]
  },
  {
   "cell_type": "code",
   "execution_count": null,
   "id": "a792651e",
   "metadata": {},
   "outputs": [],
   "source": [
    "plt.figure(figsize=(8, 6))\n",
    "plt.scatter(embedding[:, 0], embedding[:, 1], c=tiempo,  s=1)\n",
    "plt.title(f'UMAP Projection 2D of all repetition')\n",
    "plt.xlabel('UMAP Dimension 1')\n",
    "plt.ylabel('UMAP Dimension 2')\n",
    "plt.show()"
   ]
  },
  {
   "cell_type": "code",
   "execution_count": null,
   "id": "c3b566fd",
   "metadata": {},
   "outputs": [],
   "source": [
    "plt.figure(figsize=(8, 6))\n",
    "for i in (10,21,29,32,35,40,43,51):\n",
    "    subset_embedding = embedding[502*(i-1):502*(i)]  \n",
    "    plt.scatter(subset_embedding[:, 0], subset_embedding[:, 1], s=5)\n",
    "\n",
    "plt.legend([10,21,29,32,35,40,43,51])\n",
    "plt.title('UMAP projection 2D')\n",
    "plt.xlabel('Dimension 1')\n",
    "plt.ylabel('Dimension 2')\n",
    "plt.show()"
   ]
  },
  {
   "cell_type": "code",
   "execution_count": null,
   "id": "65218505",
   "metadata": {},
   "outputs": [],
   "source": [
    "plt.figure(figsize=(8, 6))\n",
    "for i in (54,73,76,82,88,91):\n",
    "    subset_embedding = embedding[502*(i-1):502*(i)]  \n",
    "    plt.scatter(subset_embedding[:, 0], subset_embedding[:, 1], s=5)\n",
    "\n",
    "plt.legend([54,73,76,82,88,91])\n",
    "plt.title('UMAP projection 2D')\n",
    "plt.xlabel('Dimension 1')\n",
    "plt.ylabel('Dimension 2')\n",
    "plt.show()"
   ]
  },
  {
   "cell_type": "code",
   "execution_count": null,
   "id": "edcd3692",
   "metadata": {},
   "outputs": [],
   "source": []
  }
 ],
 "metadata": {
  "kernelspec": {
   "display_name": "Python 3 (ipykernel)",
   "language": "python",
   "name": "python3"
  },
  "language_info": {
   "codemirror_mode": {
    "name": "ipython",
    "version": 3
   },
   "file_extension": ".py",
   "mimetype": "text/x-python",
   "name": "python",
   "nbconvert_exporter": "python",
   "pygments_lexer": "ipython3",
   "version": "3.9.12"
  }
 },
 "nbformat": 4,
 "nbformat_minor": 5
}
